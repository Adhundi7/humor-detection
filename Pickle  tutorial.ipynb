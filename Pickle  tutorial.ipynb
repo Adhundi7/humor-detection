{
 "cells": [
  {
   "cell_type": "markdown",
   "metadata": {},
   "source": [
    "### Starting point"
   ]
  },
  {
   "cell_type": "markdown",
   "metadata": {},
   "source": [
    "We are using 6 .pickle datasets in our project. Here is a simple start point for those who are not familiar with .pickle."
   ]
  },
  {
   "cell_type": "code",
   "execution_count": 2,
   "metadata": {},
   "outputs": [],
   "source": [
    "import pickle"
   ]
  },
  {
   "cell_type": "code",
   "execution_count": 15,
   "metadata": {},
   "outputs": [],
   "source": [
    "filename = \"X_train.pickle\" \n",
    "infile = open(filename,'rb')# read in binary form"
   ]
  },
  {
   "cell_type": "markdown",
   "metadata": {},
   "source": [
    "We can than load and unpickle the file into a dictionary"
   ]
  },
  {
   "cell_type": "code",
   "execution_count": 5,
   "metadata": {},
   "outputs": [],
   "source": [
    "# this take the data set into a dictionary\n",
    "new_dict = pickle.load(infile)"
   ]
  },
  {
   "cell_type": "code",
   "execution_count": 13,
   "metadata": {},
   "outputs": [
    {
     "name": "stdout",
     "output_type": "stream",
     "text": [
      "I was sat in traffic the other day. Got hit by a car.\n",
      "\n",
      "Whats the difference between a ginger fanny and a cricket ball? If you try really hard, Really really hard, You can eat a cricket ball.\n",
      "\n",
      "Money can't buy happiness, but I'd much rather cry in a mansion.\n",
      "\n",
      "2B or not 2B. That is the pencil.\n",
      "\n",
      "What's the difference between a Jew and a canoe? Canoes tip!\n",
      "\n",
      "I've just won 10 million on the lottery and decided to buy my local Chinese takeaway called 'Happiness'.\n",
      "\n",
      "Your move, philosophers.\n",
      "\n",
      "A man was hospitalized with 6 plastic horses up his ass. The doctor described his condition as stable.\n",
      "\n",
      "Just told my joke about Peter Pan again. Never gets old.\n",
      "\n",
      "Two blondes were driving to Disneyland and the exit sign reads: DISNEYLAND LEFT. They started crying and headed home.\n",
      "\n"
     ]
    }
   ],
   "source": [
    "for joke in new_dict[1:10]:\n",
    "    print(joke + '\\n')"
   ]
  },
  {
   "cell_type": "code",
   "execution_count": 14,
   "metadata": {},
   "outputs": [],
   "source": [
    "infile.close()"
   ]
  }
 ],
 "metadata": {
  "kernelspec": {
   "display_name": "Python 3",
   "language": "python",
   "name": "python3"
  },
  "language_info": {
   "codemirror_mode": {
    "name": "ipython",
    "version": 3
   },
   "file_extension": ".py",
   "mimetype": "text/x-python",
   "name": "python",
   "nbconvert_exporter": "python",
   "pygments_lexer": "ipython3",
   "version": "3.8.6"
  }
 },
 "nbformat": 4,
 "nbformat_minor": 4
}
